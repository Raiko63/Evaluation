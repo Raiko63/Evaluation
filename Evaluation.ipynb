{
 "cells": [
  {
   "cell_type": "markdown",
   "id": "d5b4f568",
   "metadata": {},
   "source": [
    "# Data Science Tools and Ecosystem"
   ]
  },
  {
   "cell_type": "markdown",
   "id": "2f17da25",
   "metadata": {},
   "source": [
    "## In this notebook, Data Science Tools and Ecosystem are summarized\n"
   ]
  },
  {
   "cell_type": "markdown",
   "id": "e432e3ac",
   "metadata": {},
   "source": [
    "**Objetives:**"
   ]
  },
  {
   "cell_type": "markdown",
   "id": "41216f69",
   "metadata": {},
   "source": [
    "- Popular Data Scientits\n",
    "- Commonly Used by Data Scientists"
   ]
  },
  {
   "cell_type": "markdown",
   "id": "8bb05ac9",
   "metadata": {},
   "source": [
    "## Some of the popular languages that Data Scientists use are: \n",
    "1. Java Script \n",
    "2. R\n",
    "3. Python"
   ]
  },
  {
   "cell_type": "markdown",
   "id": "3d25f7bb",
   "metadata": {},
   "source": [
    "## Some of the commonly used libraries used by Data Scientists include:\n",
    "\n",
    "1. ggplot\n",
    "2. Lattice\n",
    "3. Leaflet"
   ]
  },
  {
   "cell_type": "markdown",
   "id": "6f6b08f2",
   "metadata": {},
   "source": [
    "\n",
    "|| Data Science Tools||\n",
    "| --- | --- | --- |\n",
    "|Apache Spark|Jupyter Lab|Tensorflow|\n"
   ]
  },
  {
   "cell_type": "markdown",
   "id": "7c144298",
   "metadata": {},
   "source": [
    "### Below are a few examples of evaluating arithmetic expressions in Python\n",
    "\n"
   ]
  },
  {
   "cell_type": "code",
   "execution_count": 16,
   "id": "da56ef4a",
   "metadata": {},
   "outputs": [
    {
     "data": {
      "text/plain": [
       "17"
      ]
     },
     "execution_count": 16,
     "metadata": {},
     "output_type": "execute_result"
    }
   ],
   "source": [
    "#This is simple arithmetic expression to multiply then add integers\n",
    "(3*4)+5"
   ]
  },
  {
   "cell_type": "code",
   "execution_count": 17,
   "id": "821d0446",
   "metadata": {},
   "outputs": [
    {
     "data": {
      "text/plain": [
       "3.3333333333333335"
      ]
     },
     "execution_count": 17,
     "metadata": {},
     "output_type": "execute_result"
    }
   ],
   "source": [
    "#This will convert 200 minutes to hours by diving by 60\n",
    "(200/60)"
   ]
  },
  {
   "cell_type": "markdown",
   "id": "bfdb4d6f",
   "metadata": {},
   "source": [
    "## Author"
   ]
  },
  {
   "cell_type": "markdown",
   "id": "cc12ecc0",
   "metadata": {},
   "source": [
    "Hamilton López Castro"
   ]
  }
 ],
 "metadata": {
  "kernelspec": {
   "display_name": "Python 3 (ipykernel)",
   "language": "python",
   "name": "python3"
  },
  "language_info": {
   "codemirror_mode": {
    "name": "ipython",
    "version": 3
   },
   "file_extension": ".py",
   "mimetype": "text/x-python",
   "name": "python",
   "nbconvert_exporter": "python",
   "pygments_lexer": "ipython3",
   "version": "3.11.5"
  }
 },
 "nbformat": 4,
 "nbformat_minor": 5
}
